{
 "cells": [
  {
   "cell_type": "code",
   "execution_count": 1,
   "id": "f94ac6ff-8a04-4ad0-991a-c81a3ec88b44",
   "metadata": {},
   "outputs": [],
   "source": [
    "import os\n",
    "import numpy as np\n",
    "import pandas as pd\n",
    "import matplotlib.pyplot as plt\n",
    "import matplotlib.image as mpimg\n",
    "from sklearn.utils import shuffle\n",
    "from sklearn.model_selection import train_test_split\n",
    "from imgaug import augmenters as iaa\n",
    "import keras\n",
    "from keras.models import Sequential\n",
    "from keras.layers import Convolution2D, MaxPooling2D, Dropout, Flatten, Dense\n",
    "import cv2\n",
    "from tensorflow.keras.optimizers import Adam\n",
    "import tensorflow as tf\n",
    "import ntpath"
   ]
  },
  {
   "cell_type": "code",
   "execution_count": 2,
   "id": "af365169-b20f-4e0b-aa4d-55834a373a91",
   "metadata": {},
   "outputs": [],
   "source": [
    "#!pip install imgaug\n",
    "#!pip install tensorflow"
   ]
  },
  {
   "cell_type": "markdown",
   "id": "923c17f9-db53-487e-8e97-2d0b45784036",
   "metadata": {},
   "source": [
    "# 1- load data"
   ]
  },
  {
   "cell_type": "code",
   "execution_count": 3,
   "id": "1e71aba1-b9d4-43de-a312-c3d827e78d63",
   "metadata": {},
   "outputs": [
    {
     "data": {
      "text/html": [
       "<div>\n",
       "<style scoped>\n",
       "    .dataframe tbody tr th:only-of-type {\n",
       "        vertical-align: middle;\n",
       "    }\n",
       "\n",
       "    .dataframe tbody tr th {\n",
       "        vertical-align: top;\n",
       "    }\n",
       "\n",
       "    .dataframe thead th {\n",
       "        text-align: right;\n",
       "    }\n",
       "</style>\n",
       "<table border=\"1\" class=\"dataframe\">\n",
       "  <thead>\n",
       "    <tr style=\"text-align: right;\">\n",
       "      <th></th>\n",
       "      <th>center</th>\n",
       "      <th>left</th>\n",
       "      <th>right</th>\n",
       "      <th>steering</th>\n",
       "      <th>throttle</th>\n",
       "      <th>reverse</th>\n",
       "      <th>speed</th>\n",
       "    </tr>\n",
       "  </thead>\n",
       "  <tbody>\n",
       "    <tr>\n",
       "      <th>0</th>\n",
       "      <td>C:\\Users\\Amer\\Desktop\\new_track\\IMG\\center_201...</td>\n",
       "      <td>C:\\Users\\Amer\\Desktop\\new_track\\IMG\\left_2018_...</td>\n",
       "      <td>C:\\Users\\Amer\\Desktop\\new_track\\IMG\\right_2018...</td>\n",
       "      <td>0.0</td>\n",
       "      <td>0.0</td>\n",
       "      <td>0.0</td>\n",
       "      <td>0.649786</td>\n",
       "    </tr>\n",
       "    <tr>\n",
       "      <th>1</th>\n",
       "      <td>C:\\Users\\Amer\\Desktop\\new_track\\IMG\\center_201...</td>\n",
       "      <td>C:\\Users\\Amer\\Desktop\\new_track\\IMG\\left_2018_...</td>\n",
       "      <td>C:\\Users\\Amer\\Desktop\\new_track\\IMG\\right_2018...</td>\n",
       "      <td>0.0</td>\n",
       "      <td>0.0</td>\n",
       "      <td>0.0</td>\n",
       "      <td>0.627942</td>\n",
       "    </tr>\n",
       "    <tr>\n",
       "      <th>2</th>\n",
       "      <td>C:\\Users\\Amer\\Desktop\\new_track\\IMG\\center_201...</td>\n",
       "      <td>C:\\Users\\Amer\\Desktop\\new_track\\IMG\\left_2018_...</td>\n",
       "      <td>C:\\Users\\Amer\\Desktop\\new_track\\IMG\\right_2018...</td>\n",
       "      <td>0.0</td>\n",
       "      <td>0.0</td>\n",
       "      <td>0.0</td>\n",
       "      <td>0.622910</td>\n",
       "    </tr>\n",
       "    <tr>\n",
       "      <th>3</th>\n",
       "      <td>C:\\Users\\Amer\\Desktop\\new_track\\IMG\\center_201...</td>\n",
       "      <td>C:\\Users\\Amer\\Desktop\\new_track\\IMG\\left_2018_...</td>\n",
       "      <td>C:\\Users\\Amer\\Desktop\\new_track\\IMG\\right_2018...</td>\n",
       "      <td>0.0</td>\n",
       "      <td>0.0</td>\n",
       "      <td>0.0</td>\n",
       "      <td>0.619162</td>\n",
       "    </tr>\n",
       "    <tr>\n",
       "      <th>4</th>\n",
       "      <td>C:\\Users\\Amer\\Desktop\\new_track\\IMG\\center_201...</td>\n",
       "      <td>C:\\Users\\Amer\\Desktop\\new_track\\IMG\\left_2018_...</td>\n",
       "      <td>C:\\Users\\Amer\\Desktop\\new_track\\IMG\\right_2018...</td>\n",
       "      <td>0.0</td>\n",
       "      <td>0.0</td>\n",
       "      <td>0.0</td>\n",
       "      <td>0.615438</td>\n",
       "    </tr>\n",
       "  </tbody>\n",
       "</table>\n",
       "</div>"
      ],
      "text/plain": [
       "                                              center  \\\n",
       "0  C:\\Users\\Amer\\Desktop\\new_track\\IMG\\center_201...   \n",
       "1  C:\\Users\\Amer\\Desktop\\new_track\\IMG\\center_201...   \n",
       "2  C:\\Users\\Amer\\Desktop\\new_track\\IMG\\center_201...   \n",
       "3  C:\\Users\\Amer\\Desktop\\new_track\\IMG\\center_201...   \n",
       "4  C:\\Users\\Amer\\Desktop\\new_track\\IMG\\center_201...   \n",
       "\n",
       "                                                left  \\\n",
       "0  C:\\Users\\Amer\\Desktop\\new_track\\IMG\\left_2018_...   \n",
       "1  C:\\Users\\Amer\\Desktop\\new_track\\IMG\\left_2018_...   \n",
       "2  C:\\Users\\Amer\\Desktop\\new_track\\IMG\\left_2018_...   \n",
       "3  C:\\Users\\Amer\\Desktop\\new_track\\IMG\\left_2018_...   \n",
       "4  C:\\Users\\Amer\\Desktop\\new_track\\IMG\\left_2018_...   \n",
       "\n",
       "                                               right  steering  throttle  \\\n",
       "0  C:\\Users\\Amer\\Desktop\\new_track\\IMG\\right_2018...       0.0       0.0   \n",
       "1  C:\\Users\\Amer\\Desktop\\new_track\\IMG\\right_2018...       0.0       0.0   \n",
       "2  C:\\Users\\Amer\\Desktop\\new_track\\IMG\\right_2018...       0.0       0.0   \n",
       "3  C:\\Users\\Amer\\Desktop\\new_track\\IMG\\right_2018...       0.0       0.0   \n",
       "4  C:\\Users\\Amer\\Desktop\\new_track\\IMG\\right_2018...       0.0       0.0   \n",
       "\n",
       "   reverse     speed  \n",
       "0      0.0  0.649786  \n",
       "1      0.0  0.627942  \n",
       "2      0.0  0.622910  \n",
       "3      0.0  0.619162  \n",
       "4      0.0  0.615438  "
      ]
     },
     "execution_count": 3,
     "metadata": {},
     "output_type": "execute_result"
    }
   ],
   "source": [
    "columns = ['center', 'left', 'right', 'steering', 'throttle', 'reverse', 'speed']\n",
    "data = pd.read_csv (r'driving_log.csv', names = columns)\n",
    "data.head()"
   ]
  },
  {
   "cell_type": "markdown",
   "id": "ccd7233e-f372-430b-ac96-a8fa9e173f30",
   "metadata": {},
   "source": [
    "# 2- split image name only from there path"
   ]
  },
  {
   "cell_type": "code",
   "execution_count": 4,
   "id": "932c2303-e602-40be-b0be-d633ffc60224",
   "metadata": {},
   "outputs": [
    {
     "data": {
      "text/html": [
       "<div>\n",
       "<style scoped>\n",
       "    .dataframe tbody tr th:only-of-type {\n",
       "        vertical-align: middle;\n",
       "    }\n",
       "\n",
       "    .dataframe tbody tr th {\n",
       "        vertical-align: top;\n",
       "    }\n",
       "\n",
       "    .dataframe thead th {\n",
       "        text-align: right;\n",
       "    }\n",
       "</style>\n",
       "<table border=\"1\" class=\"dataframe\">\n",
       "  <thead>\n",
       "    <tr style=\"text-align: right;\">\n",
       "      <th></th>\n",
       "      <th>center</th>\n",
       "      <th>left</th>\n",
       "      <th>right</th>\n",
       "      <th>steering</th>\n",
       "      <th>throttle</th>\n",
       "      <th>reverse</th>\n",
       "      <th>speed</th>\n",
       "    </tr>\n",
       "  </thead>\n",
       "  <tbody>\n",
       "    <tr>\n",
       "      <th>0</th>\n",
       "      <td>center_2018_07_16_17_11_43_382.jpg</td>\n",
       "      <td>left_2018_07_16_17_11_43_382.jpg</td>\n",
       "      <td>right_2018_07_16_17_11_43_382.jpg</td>\n",
       "      <td>0.0</td>\n",
       "      <td>0.0</td>\n",
       "      <td>0.0</td>\n",
       "      <td>0.649786</td>\n",
       "    </tr>\n",
       "    <tr>\n",
       "      <th>1</th>\n",
       "      <td>center_2018_07_16_17_11_43_670.jpg</td>\n",
       "      <td>left_2018_07_16_17_11_43_670.jpg</td>\n",
       "      <td>right_2018_07_16_17_11_43_670.jpg</td>\n",
       "      <td>0.0</td>\n",
       "      <td>0.0</td>\n",
       "      <td>0.0</td>\n",
       "      <td>0.627942</td>\n",
       "    </tr>\n",
       "    <tr>\n",
       "      <th>2</th>\n",
       "      <td>center_2018_07_16_17_11_43_724.jpg</td>\n",
       "      <td>left_2018_07_16_17_11_43_724.jpg</td>\n",
       "      <td>right_2018_07_16_17_11_43_724.jpg</td>\n",
       "      <td>0.0</td>\n",
       "      <td>0.0</td>\n",
       "      <td>0.0</td>\n",
       "      <td>0.622910</td>\n",
       "    </tr>\n",
       "    <tr>\n",
       "      <th>3</th>\n",
       "      <td>center_2018_07_16_17_11_43_792.jpg</td>\n",
       "      <td>left_2018_07_16_17_11_43_792.jpg</td>\n",
       "      <td>right_2018_07_16_17_11_43_792.jpg</td>\n",
       "      <td>0.0</td>\n",
       "      <td>0.0</td>\n",
       "      <td>0.0</td>\n",
       "      <td>0.619162</td>\n",
       "    </tr>\n",
       "    <tr>\n",
       "      <th>4</th>\n",
       "      <td>center_2018_07_16_17_11_43_860.jpg</td>\n",
       "      <td>left_2018_07_16_17_11_43_860.jpg</td>\n",
       "      <td>right_2018_07_16_17_11_43_860.jpg</td>\n",
       "      <td>0.0</td>\n",
       "      <td>0.0</td>\n",
       "      <td>0.0</td>\n",
       "      <td>0.615438</td>\n",
       "    </tr>\n",
       "  </tbody>\n",
       "</table>\n",
       "</div>"
      ],
      "text/plain": [
       "                               center                              left  \\\n",
       "0  center_2018_07_16_17_11_43_382.jpg  left_2018_07_16_17_11_43_382.jpg   \n",
       "1  center_2018_07_16_17_11_43_670.jpg  left_2018_07_16_17_11_43_670.jpg   \n",
       "2  center_2018_07_16_17_11_43_724.jpg  left_2018_07_16_17_11_43_724.jpg   \n",
       "3  center_2018_07_16_17_11_43_792.jpg  left_2018_07_16_17_11_43_792.jpg   \n",
       "4  center_2018_07_16_17_11_43_860.jpg  left_2018_07_16_17_11_43_860.jpg   \n",
       "\n",
       "                               right  steering  throttle  reverse     speed  \n",
       "0  right_2018_07_16_17_11_43_382.jpg       0.0       0.0      0.0  0.649786  \n",
       "1  right_2018_07_16_17_11_43_670.jpg       0.0       0.0      0.0  0.627942  \n",
       "2  right_2018_07_16_17_11_43_724.jpg       0.0       0.0      0.0  0.622910  \n",
       "3  right_2018_07_16_17_11_43_792.jpg       0.0       0.0      0.0  0.619162  \n",
       "4  right_2018_07_16_17_11_43_860.jpg       0.0       0.0      0.0  0.615438  "
      ]
     },
     "execution_count": 4,
     "metadata": {},
     "output_type": "execute_result"
    }
   ],
   "source": [
    "def path_leaf(path):\n",
    "    head, tail = ntpath.split(path)\n",
    "    return tail\n",
    "data['center'] = data['center'].apply(path_leaf)\n",
    "data['left'] = data['left'].apply(path_leaf)\n",
    "data['right'] = data['right'].apply(path_leaf)\n",
    "data.head()"
   ]
  },
  {
   "cell_type": "markdown",
   "id": "bda5e859-a53a-4ae7-aaf4-00190eed7392",
   "metadata": {},
   "source": [
    "# 3- plot the stearing angle distripuation"
   ]
  },
  {
   "cell_type": "code",
   "execution_count": 5,
   "id": "cb2cca79-dba1-42e9-bf1f-07e8a4bc0697",
   "metadata": {},
   "outputs": [
    {
     "data": {
      "image/png": "[encoded data removed]",
      "text/plain": [
       "<Figure size 432x288 with 1 Axes>"
      ]
     },
     "metadata": {
      "needs_background": "light"
     },
     "output_type": "display_data"
    }
   ],
   "source": [
    "num_bins = 25\n",
    "sample_ber_bin = 500\n",
    "hist, bins = np.histogram(data[\"steering\"], num_bins)\n",
    "center = (bins[:-1] + bins[1:]) * 0.5\n",
    "plt.bar(center, hist, width= 0.05)\n",
    "plt.plot((np.min(data['steering']), np.max(data['steering'])), (sample_ber_bin, sample_ber_bin))\n",
    "plt.show()\n",
    "#print(bins)"
   ]
  },
  {
   "cell_type": "markdown",
   "id": "e74f3438-a0ab-4b0e-bb6c-19099510e156",
   "metadata": {},
   "source": [
    "# 3- remove unneeded data "
   ]
  },
  {
   "cell_type": "code",
   "execution_count": 6,
   "id": "aa93ff0d-afec-45cc-996c-1d66c302f713",
   "metadata": {},
   "outputs": [
    {
     "data": {
      "image/png": "[encoded data removed]",
      "text/plain": [
       "<Figure size 432x288 with 1 Axes>"
      ]
     },
     "metadata": {
      "needs_background": "light"
     },
     "output_type": "display_data"
    }
   ],
   "source": [
    "remove_list = []\n",
    "for j in range(num_bins):\n",
    "    list_ = []\n",
    "    for i in range(len(data['steering'])):\n",
    "        if data['steering'][i] >= bins[j] and  data['steering'][i] <= bins[j+1]:\n",
    "            list_.append(i)\n",
    "    list_ = shuffle(list_)\n",
    "    list_ = list_[sample_ber_bin:]\n",
    "    remove_list.extend(list_)\n",
    "\n",
    "data.drop(data.index[remove_list], inplace= True)\n",
    "hist, bins = np.histogram(data[\"steering\"], num_bins)\n",
    "center = (bins[:-1] + bins[1:]) * 0.5\n",
    "plt.bar(center, hist, width= 0.05)\n",
    "plt.plot((np.min(data['steering']), np.max(data['steering'])), (sample_ber_bin, sample_ber_bin))\n",
    "plt.show()"
   ]
  },
  {
   "cell_type": "markdown",
   "id": "0920b5a9-fe9b-4638-a524-17413c6b2bca",
   "metadata": {},
   "source": [
    "# 4- merge the 3 pathes coulmn into one coulmn\n",
    "\n",
    "#### each stearing angle has the images (left, right, center)\n",
    "#### we have three vectors for imges and one vector for stearing angle"
   ]
  },
  {
   "cell_type": "code",
   "execution_count": 7,
   "id": "264003c2-c901-4568-b514-fe26f15af39e",
   "metadata": {},
   "outputs": [],
   "source": [
    "dataDir = r\"..\\track-master\\IMG\"\n",
    "def load_img_(dataDir, df):\n",
    "    image_path = []\n",
    "    steering = []\n",
    "    for center, left, right, ang in zip(df['center'], df['left'], df['right'], df['steering']):\n",
    "        image_path.append(os.path.join(dataDir, center.strip()))\n",
    "        steering.append(ang)\n",
    "        \n",
    "        image_path.append(os.path.join(dataDir, left.strip()))\n",
    "        steering.append(ang)\n",
    "        \n",
    "        image_path.append(os.path.join(dataDir, right.strip()))\n",
    "        steering.append(ang)\n",
    "        \n",
    "    image_path = np.asarray(image_path)\n",
    "    steering = np.asarray(steering)\n",
    "    return image_path, steering\n",
    "\n",
    "image_pathes, steering = load_img_(dataDir, data)\n"
   ]
  },
  {
   "cell_type": "markdown",
   "id": "1348dcc5-85f4-4347-8f7f-eb42ff0a684a",
   "metadata": {},
   "source": [
    "# 5- train test split"
   ]
  },
  {
   "cell_type": "code",
   "execution_count": 8,
   "id": "6e402d73-e340-4e63-ac47-3babdeb6249d",
   "metadata": {},
   "outputs": [],
   "source": [
    "x_train, x_valid, y_train, y_valid = train_test_split(image_pathes, steering, test_size= 0.25, random_state= 0)"
   ]
  },
  {
   "cell_type": "code",
   "execution_count": 9,
   "id": "d634d2d3-fb20-46e8-b0e0-0556de45b8c8",
   "metadata": {},
   "outputs": [
    {
     "data": {
      "image/png": "[encoded data removed]",
      "text/plain": [
       "<Figure size 864x288 with 2 Axes>"
      ]
     },
     "metadata": {
      "needs_background": "light"
     },
     "output_type": "display_data"
    }
   ],
   "source": [
    "fig, axes = plt.subplots(1, 2, figsize = (12, 4))\n",
    "axes[0].hist(y_train, bins= num_bins, width= 0.05, color = 'blue')\n",
    "axes[0].set_title('Training set')\n",
    "axes[1].hist(y_valid, bins= num_bins, width= 0.05, color = 'red')\n",
    "axes[1].set_title('Validation set')\n",
    "plt.show()"
   ]
  },
  {
   "cell_type": "markdown",
   "id": "89cea70e-5c5b-4638-9354-100c3944c2b2",
   "metadata": {},
   "source": [
    "# 6- data agumentaion methods"
   ]
  },
  {
   "cell_type": "code",
   "execution_count": 10,
   "id": "20bb0316-a95c-4bdc-bc6d-16cde27cca7f",
   "metadata": {},
   "outputs": [],
   "source": [
    "def zoom(image):\n",
    "    zoom = iaa.Affine(scale=(1, 1.3))\n",
    "    image = zoom.augment_image(image)\n",
    "    return image"
   ]
  },
  {
   "cell_type": "code",
   "execution_count": null,
   "id": "7d9cabd4-177e-499c-a360-d10368ee669e",
   "metadata": {},
   "outputs": [],
   "source": []
  },
  {
   "cell_type": "code",
   "execution_count": 11,
   "id": "8552355d-9eac-4c03-9179-388de12bb415",
   "metadata": {},
   "outputs": [],
   "source": [
    "def pan(image):\n",
    "    pan = iaa.Affine(translate_percent= {\"x\" : (-0.1, 0.1), \"y\": (-0.1, 0.1)})\n",
    "    image = pan.augment_image(image)\n",
    "    return image"
   ]
  },
  {
   "cell_type": "code",
   "execution_count": null,
   "id": "a034f36f-276d-4336-b0cb-a08362fc78cf",
   "metadata": {},
   "outputs": [],
   "source": []
  },
  {
   "cell_type": "code",
   "execution_count": 12,
   "id": "ac95de63-7832-4035-96f5-27c9743d9da2",
   "metadata": {},
   "outputs": [],
   "source": [
    "def img_random_brightness(image):\n",
    "    brightness = iaa.Multiply((0.2, 1.2))\n",
    "    image = brightness.augment_image(image)\n",
    "    return image"
   ]
  },
  {
   "cell_type": "code",
   "execution_count": null,
   "id": "b31e4215-1d41-4947-9d1c-0b25c390a21f",
   "metadata": {},
   "outputs": [],
   "source": []
  },
  {
   "cell_type": "code",
   "execution_count": 13,
   "id": "a11d91db-097f-4664-8577-0194147b14f7",
   "metadata": {},
   "outputs": [],
   "source": [
    "def img_random_flip(image, steering_angle):\n",
    "    image = cv2.flip(image,1)\n",
    "    steering_angle = -steering_angle\n",
    "    return image, steering_angle"
   ]
  },
  {
   "cell_type": "code",
   "execution_count": null,
   "id": "b395782e-de04-421d-90a0-7012f7eed804",
   "metadata": {},
   "outputs": [],
   "source": []
  },
  {
   "cell_type": "code",
   "execution_count": 14,
   "id": "769b3ac0-7b46-4be4-ad62-1da353aee9bf",
   "metadata": {},
   "outputs": [],
   "source": [
    "def random_augment(image, steering_angle):\n",
    "    #try:\n",
    "    image = mpimg.imread(image)\n",
    "    #except:\n",
    "        #image = 'IMG\\center_2018_07_16_17_11_44_209.jpg'\n",
    "        #steering_angle = 0.02400588\n",
    "        #image = mpimg.imread(image)\n",
    "    if np.random.rand() < 0.5:\n",
    "        image = pan(image)\n",
    "    if np.random.rand() < 0.5:\n",
    "        image = zoom(image)\n",
    "    if np.random.rand() < 0.5:\n",
    "        image = img_random_brightness(image)\n",
    "        \n",
    "    if np.random.rand() < 0.5:\n",
    "        image, steering_angle = img_random_flip(image, steering_angle)\n",
    "        \n",
    "    return image, steering_angle"
   ]
  },
  {
   "cell_type": "code",
   "execution_count": 15,
   "id": "510ef7a0-e9f3-4c72-b49e-eec78a11a2b5",
   "metadata": {},
   "outputs": [],
   "source": [
    "def img_preprocess(img):\n",
    "    img = img[60:135,:,:]\n",
    "    img = cv2.cvtColor(img, cv2.COLOR_RGB2YUV)\n",
    "    img = cv2.GaussianBlur(img,  (3, 3), 0)\n",
    "    img = cv2.resize(img, (200, 66))\n",
    "    img = img/255\n",
    "    return img"
   ]
  },
  {
   "cell_type": "markdown",
   "id": "d25729bf-8aae-4de2-acfa-95008000aade",
   "metadata": {},
   "source": [
    "# 7- create the image generator method"
   ]
  },
  {
   "cell_type": "code",
   "execution_count": 16,
   "id": "ac3af2ba-e02d-481b-8b05-2ebd7a2149ff",
   "metadata": {},
   "outputs": [],
   "source": [
    "def batch_generator(image_paths, steering_ang, batch_size, istraining):\n",
    "\n",
    "    while True:\n",
    "        batch_img = []\n",
    "        batch_steering = []\n",
    "\n",
    "        for i in range(batch_size):\n",
    "            random_index = np.random.randint(0, len(image_paths) - 1)\n",
    "\n",
    "        if istraining:\n",
    "            im, steering = random_augment(image_paths[random_index], steering_ang[random_index])\n",
    "\n",
    "        else:\n",
    "            im = mpimg.imread(image_paths[random_index])\n",
    "            steering = steering_ang[random_index]\n",
    "\n",
    "        im = img_preprocess(im)\n",
    "        batch_img.append(im)\n",
    "        batch_steering.append(steering)\n",
    "        yield (np.asarray(batch_img), np.asarray(batch_steering))\n"
   ]
  },
  {
   "cell_type": "markdown",
   "id": "8766a382-dcb1-40b4-a64d-8b2962f41d06",
   "metadata": {},
   "source": [
    "# 8- define the model architecture"
   ]
  },
  {
   "cell_type": "code",
   "execution_count": 17,
   "id": "dbca6ac8-5af0-4a83-83eb-b776b8f9f5ec",
   "metadata": {},
   "outputs": [],
   "source": [
    "def nvidia_model():\n",
    "    model = Sequential()\n",
    "    model.add(Convolution2D(24,( 5, 5), strides=(2, 2), input_shape=(66, 200, 3), activation='relu'))\n",
    "    model.add(Convolution2D(36, ( 5, 5), strides=(2, 2), activation='relu'))\n",
    "    model.add(Convolution2D(48, ( 5, 5), strides=(2, 2), activation='relu'))\n",
    "    model.add(Convolution2D(64,( 3, 3), activation='elu'))\n",
    "    model.add(Convolution2D(64, 3, 3, activation='elu'))\n",
    "#   model.add(Dropout(0.5))\n",
    "\n",
    "\n",
    "    model.add(Flatten())\n",
    "\n",
    "    model.add(Dense(100, activation = 'tanh'))\n",
    "    model.add(Dropout(0.5))\n",
    "    model.add(Dense(50, activation = 'tanh'))\n",
    "    model.add(Dropout(0.3))\n",
    "\n",
    "    model.add(Dense(10, activation = 'elu'))\n",
    "    model.add(Dropout(0.1))\n",
    "    model.add(Dense(5, activation = 'elu'))\n",
    "#   model.add(Dropout(0.5))\n",
    "\n",
    "    model.add(Dense(1))\n",
    "\n",
    "    optimizer = Adam(lr=1e-3)\n",
    "    model.compile(loss='mse', optimizer=optimizer, metrics=[['accuracy', 'mse']], )\n",
    "    return model"
   ]
  },
  {
   "cell_type": "markdown",
   "id": "560ea27c-79e5-4aea-8910-26bba778aedc",
   "metadata": {},
   "source": [
    "# 9- fit the data"
   ]
  },
  {
   "cell_type": "code",
   "execution_count": 19,
   "id": "0ef1c240-180b-44c5-936e-1ee7a87962f0",
   "metadata": {},
   "outputs": [
    {
     "name": "stdout",
     "output_type": "stream",
     "text": [
      "Model: \"sequential_1\"\n",
      "_________________________________________________________________\n",
      " Layer (type)                Output Shape              Param #   \n",
      "=================================================================\n",
      " conv2d_5 (Conv2D)           (None, 31, 98, 24)        1824      \n",
      "                                                                 \n",
      " conv2d_6 (Conv2D)           (None, 14, 47, 36)        21636     \n",
      "                                                                 \n",
      " conv2d_7 (Conv2D)           (None, 5, 22, 48)         43248     \n",
      "                                                                 \n",
      " conv2d_8 (Conv2D)           (None, 3, 20, 64)         27712     \n",
      "                                                                 \n",
      " conv2d_9 (Conv2D)           (None, 1, 6, 64)          36928     \n",
      "                                                                 \n",
      " flatten_1 (Flatten)         (None, 384)               0         \n",
      "                                                                 \n",
      " dense_5 (Dense)             (None, 100)               38500     \n",
      "                                                                 \n",
      " dropout_3 (Dropout)         (None, 100)               0         \n",
      "                                                                 \n",
      " dense_6 (Dense)             (None, 50)                5050      \n",
      "                                                                 \n",
      " dropout_4 (Dropout)         (None, 50)                0         \n",
      "                                                                 \n",
      " dense_7 (Dense)             (None, 10)                510       \n",
      "                                                                 \n",
      " dropout_5 (Dropout)         (None, 10)                0         \n",
      "                                                                 \n",
      " dense_8 (Dense)             (None, 5)                 55        \n",
      "                                                                 \n",
      " dense_9 (Dense)             (None, 1)                 6         \n",
      "                                                                 \n",
      "=================================================================\n",
      "Total params: 175,469\n",
      "Trainable params: 175,469\n",
      "Non-trainable params: 0\n",
      "_________________________________________________________________\n",
      "None\n",
      "Epoch 1/20\n",
      "1500/1500 [==============================] - 22s 14ms/step - loss: 0.1050 - accuracy: 0.2887 - mse: 0.1050 - val_loss: 0.1012 - val_accuracy: 0.3348 - val_mse: 0.1012\n",
      "Epoch 2/20\n",
      "1500/1500 [==============================] - 20s 13ms/step - loss: 0.0985 - accuracy: 0.3267 - mse: 0.0985 - val_loss: 0.1078 - val_accuracy: 0.2787 - val_mse: 0.1078\n",
      "Epoch 3/20\n",
      "1500/1500 [==============================] - 19s 13ms/step - loss: 0.0937 - accuracy: 0.3240 - mse: 0.0937 - val_loss: 0.0969 - val_accuracy: 0.3056 - val_mse: 0.0969\n",
      "Epoch 4/20\n",
      "1500/1500 [==============================] - 19s 13ms/step - loss: 0.0956 - accuracy: 0.3020 - mse: 0.0956 - val_loss: 0.1005 - val_accuracy: 0.2944 - val_mse: 0.1005\n",
      "Epoch 5/20\n",
      "1500/1500 [==============================] - 19s 13ms/step - loss: 0.1010 - accuracy: 0.3187 - mse: 0.1010 - val_loss: 0.1057 - val_accuracy: 0.2921 - val_mse: 0.1057\n",
      "Epoch 6/20\n",
      "1500/1500 [==============================] - 19s 13ms/step - loss: 0.1108 - accuracy: 0.2773 - mse: 0.1108 - val_loss: 0.0941 - val_accuracy: 0.3146 - val_mse: 0.0941\n",
      "Epoch 7/20\n",
      "1500/1500 [==============================] - 19s 13ms/step - loss: 0.0934 - accuracy: 0.2920 - mse: 0.0934 - val_loss: 0.0960 - val_accuracy: 0.3303 - val_mse: 0.0960\n",
      "Epoch 8/20\n",
      "1500/1500 [==============================] - 20s 13ms/step - loss: 0.1027 - accuracy: 0.2933 - mse: 0.1027 - val_loss: 0.1147 - val_accuracy: 0.3303 - val_mse: 0.1147\n",
      "Epoch 9/20\n",
      "1500/1500 [==============================] - 22s 14ms/step - loss: 0.0984 - accuracy: 0.3067 - mse: 0.0984 - val_loss: 0.1163 - val_accuracy: 0.3146 - val_mse: 0.1163\n",
      "Epoch 10/20\n",
      "1500/1500 [==============================] - 21s 14ms/step - loss: 0.0944 - accuracy: 0.3013 - mse: 0.0944 - val_loss: 0.1037 - val_accuracy: 0.2787 - val_mse: 0.1037\n",
      "Epoch 11/20\n",
      "1500/1500 [==============================] - 19s 13ms/step - loss: 0.0926 - accuracy: 0.3247 - mse: 0.0926 - val_loss: 0.0825 - val_accuracy: 0.3461 - val_mse: 0.0825\n",
      "Epoch 12/20\n",
      "1500/1500 [==============================] - 19s 13ms/step - loss: 0.0992 - accuracy: 0.3080 - mse: 0.0992 - val_loss: 0.0983 - val_accuracy: 0.3258 - val_mse: 0.0983\n",
      "Epoch 13/20\n",
      "1500/1500 [==============================] - 19s 13ms/step - loss: 0.0961 - accuracy: 0.3247 - mse: 0.0961 - val_loss: 0.1075 - val_accuracy: 0.2494 - val_mse: 0.1075\n",
      "Epoch 14/20\n",
      "1500/1500 [==============================] - 19s 13ms/step - loss: 0.0973 - accuracy: 0.3087 - mse: 0.0973 - val_loss: 0.1076 - val_accuracy: 0.3258 - val_mse: 0.1076\n",
      "Epoch 15/20\n",
      "1500/1500 [==============================] - 19s 13ms/step - loss: 0.1069 - accuracy: 0.3227 - mse: 0.1069 - val_loss: 0.0974 - val_accuracy: 0.3506 - val_mse: 0.0974\n",
      "Epoch 16/20\n",
      "1500/1500 [==============================] - 19s 13ms/step - loss: 0.0976 - accuracy: 0.3080 - mse: 0.0976 - val_loss: 0.0776 - val_accuracy: 0.3034 - val_mse: 0.0776\n",
      "Epoch 17/20\n",
      "1500/1500 [==============================] - 19s 13ms/step - loss: 0.0975 - accuracy: 0.3087 - mse: 0.0975 - val_loss: 0.0759 - val_accuracy: 0.3213 - val_mse: 0.0759\n",
      "Epoch 18/20\n",
      "1500/1500 [==============================] - 19s 13ms/step - loss: 0.0939 - accuracy: 0.2967 - mse: 0.0939 - val_loss: 0.0851 - val_accuracy: 0.2989 - val_mse: 0.0851\n",
      "Epoch 19/20\n",
      "1500/1500 [==============================] - 19s 13ms/step - loss: 0.0964 - accuracy: 0.3100 - mse: 0.0964 - val_loss: 0.0887 - val_accuracy: 0.3101 - val_mse: 0.0887\n",
      "Epoch 20/20\n",
      "1500/1500 [==============================] - 19s 13ms/step - loss: 0.1039 - accuracy: 0.2947 - mse: 0.1039 - val_loss: 0.1015 - val_accuracy: 0.2809 - val_mse: 0.1015\n"
     ]
    }
   ],
   "source": [
    "model = nvidia_model()\n",
    "print(model.summary())\n",
    "history = model.fit(batch_generator(x_train, y_train, 1500, 1),\n",
    "                                  steps_per_epoch=1500,\n",
    "                                  epochs=20,\n",
    "                                  validation_data=batch_generator(x_valid, y_valid, 750, 0),\n",
    "                                  validation_steps=445,\n",
    "                                  verbose=1,\n",
    "                                  shuffle = 1)\n"
   ]
  },
  {
   "cell_type": "markdown",
   "id": "a0d72912-4a5b-4bb9-9b29-4809a9f935a7",
   "metadata": {},
   "source": [
    "# 10- plot accurcy and loss"
   ]
  },
  {
   "cell_type": "code",
   "execution_count": 32,
   "id": "d57a2afa-6f52-4a36-acd5-1e283bc314a9",
   "metadata": {},
   "outputs": [
    {
     "data": {
      "image/png": "[encoded data removed]",
      "text/plain": [
       "<Figure size 1080x576 with 2 Axes>"
      ]
     },
     "metadata": {
      "needs_background": "light"
     },
     "output_type": "display_data"
    }
   ],
   "source": [
    "fig, axes = plt.subplots(1, 2, figsize = (15, 8))\n",
    "axes[0].plot(history.history['accuracy'], color = 'blue')\n",
    "axes[0].plot(history.history['val_accuracy'], color = 'red')\n",
    "axes[0].legend(['accuracy', 'val_accuracy'])\n",
    "axes[0].set_title('accuracy set')\n",
    "\n",
    "axes[1].plot(loss, color = 'blue')\n",
    "axes[1].plot(val_loss, color = 'red')\n",
    "axes[1].legend(['loss', 'val_loss'])\n",
    "axes[1].set_title('loss set')\n",
    "plt.show()\n"
   ]
  },
  {
   "cell_type": "code",
   "execution_count": null,
   "id": "515d7c9b-b96f-4ade-83af-4ec309c6a07a",
   "metadata": {},
   "outputs": [],
   "source": []
  }
 ],
 "metadata": {
  "kernelspec": {
   "display_name": "Python 3 (ipykernel)",
   "language": "python",
   "name": "python3"
  },
  "language_info": {
   "codemirror_mode": {
    "name": "ipython",
    "version": 3
   },
   "file_extension": ".py",
   "mimetype": "text/x-python",
   "name": "python",
   "nbconvert_exporter": "python",
   "pygments_lexer": "ipython3",
   "version": "3.9.7"
  }
 },
 "nbformat": 4,
 "nbformat_minor": 5
}
